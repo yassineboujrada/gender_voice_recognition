{
 "cells": [
  {
   "cell_type": "code",
   "execution_count": 1,
   "metadata": {
    "executionInfo": {
     "elapsed": 22,
     "status": "ok",
     "timestamp": 1645892733848,
     "user": {
      "displayName": "yassine boujrada",
      "photoUrl": "https://lh3.googleusercontent.com/a-/AOh14GiE6R5HoGgvTzGQtfm3-W8KYix-Z9pkm_cvQzWo8w=s64",
      "userId": "10516259841376690077"
     },
     "user_tz": -60
    },
    "id": "XBy2SW6zCpP6"
   },
   "outputs": [],
   "source": [
    "import numpy as np\n",
    "from scipy.io import wavfile\n",
    "import scipy.stats\n",
    "import scipy"
   ]
  },
  {
   "cell_type": "code",
   "execution_count": 2,
   "metadata": {
    "colab": {
     "base_uri": "https://localhost:8080/"
    },
    "executionInfo": {
     "elapsed": 45,
     "status": "ok",
     "timestamp": 1645892746972,
     "user": {
      "displayName": "yassine boujrada",
      "photoUrl": "https://lh3.googleusercontent.com/a-/AOh14GiE6R5HoGgvTzGQtfm3-W8KYix-Z9pkm_cvQzWo8w=s64",
      "userId": "10516259841376690077"
     },
     "user_tz": -60
    },
    "id": "_9w3ebNQDH8o",
    "outputId": "0dd67147-50b6-4c6d-ff88-e111d354c5ec"
   },
   "outputs": [
    {
     "name": "stdout",
     "output_type": "stream",
     "text": [
      "Cloning into 'predict_gender_from_voice'...\n",
      "remote: Enumerating objects: 16, done.\u001b[K\n",
      "remote: Counting objects: 100% (16/16), done.\u001b[K\n",
      "remote: Compressing objects: 100% (13/13), done.\u001b[K\n",
      "remote: Total 16 (delta 1), reused 13 (delta 1), pack-reused 0\u001b[K\n",
      "Unpacking objects: 100% (16/16), done.\n"
     ]
    }
   ],
   "source": [
    "!git clone https://github.com/yassineboujrada/predict_gender_from_voice.git"
   ]
  },
  {
   "cell_type": "code",
   "execution_count": 5,
   "metadata": {
    "colab": {
     "base_uri": "https://localhost:8080/"
    },
    "executionInfo": {
     "elapsed": 614,
     "status": "ok",
     "timestamp": 1645892942939,
     "user": {
      "displayName": "yassine boujrada",
      "photoUrl": "https://lh3.googleusercontent.com/a-/AOh14GiE6R5HoGgvTzGQtfm3-W8KYix-Z9pkm_cvQzWo8w=s64",
      "userId": "10516259841376690077"
     },
     "user_tz": -60
    },
    "id": "7QGIRx64DHt0",
    "outputId": "2595d9fe-5448-4a31-b56f-6d7caa3a4894"
   },
   "outputs": [
    {
     "name": "stdout",
     "output_type": "stream",
     "text": [
      "app.py\t\t  Daco_4884616.png  README.md\t    tt.png     window.py\n",
      "audio_data.ipynb  mm.py\t\t    recording1.wav  voice.csv  yy.png\n"
     ]
    }
   ],
   "source": [
    "!ls predict_gender_from_voice"
   ]
  },
  {
   "cell_type": "code",
   "execution_count": 10,
   "metadata": {
    "executionInfo": {
     "elapsed": 468,
     "status": "ok",
     "timestamp": 1645893017050,
     "user": {
      "displayName": "yassine boujrada",
      "photoUrl": "https://lh3.googleusercontent.com/a-/AOh14GiE6R5HoGgvTzGQtfm3-W8KYix-Z9pkm_cvQzWo8w=s64",
      "userId": "10516259841376690077"
     },
     "user_tz": -60
    },
    "id": "3WADlIO_DHfd"
   },
   "outputs": [],
   "source": [
    "!cd .."
   ]
  },
  {
   "cell_type": "code",
   "execution_count": 11,
   "metadata": {
    "colab": {
     "base_uri": "https://localhost:8080/"
    },
    "executionInfo": {
     "elapsed": 657,
     "status": "ok",
     "timestamp": 1645893020390,
     "user": {
      "displayName": "yassine boujrada",
      "photoUrl": "https://lh3.googleusercontent.com/a-/AOh14GiE6R5HoGgvTzGQtfm3-W8KYix-Z9pkm_cvQzWo8w=s64",
      "userId": "10516259841376690077"
     },
     "user_tz": -60
    },
    "id": "JXle4lWmDHE9",
    "outputId": "43244612-5fc4-440b-9d33-839d6b122508"
   },
   "outputs": [
    {
     "name": "stdout",
     "output_type": "stream",
     "text": [
      "predict_gender_from_voice  sample_data\n"
     ]
    }
   ],
   "source": [
    "!ls"
   ]
  },
  {
   "cell_type": "code",
   "execution_count": null,
   "metadata": {
    "colab": {
     "base_uri": "https://localhost:8080/"
    },
    "executionInfo": {
     "elapsed": 733,
     "status": "ok",
     "timestamp": 1645782874547,
     "user": {
      "displayName": "yassine boujrada",
      "photoUrl": "https://lh3.googleusercontent.com/a-/AOh14GiE6R5HoGgvTzGQtfm3-W8KYix-Z9pkm_cvQzWo8w=s64",
      "userId": "10516259841376690077"
     },
     "user_tz": -60
    },
    "id": "k6vWBSdaCz_x",
    "outputId": "6167f423-ab77-4184-f701-2a10b40b06bb"
   },
   "outputs": [
    {
     "name": "stdout",
     "output_type": "stream",
     "text": [
      "[[  2466.21793084   7790.92331475   2460.          -2402.\n",
      "    7361.         -32768.           9763.          32767.        ]]\n"
     ]
    }
   ],
   "source": [
    "def describe_freq(freqs):\n",
    "    mean = np.mean(freqs)\n",
    "    std = np.std(freqs) \n",
    "    maxv = np.amax(freqs) \n",
    "    minv = np.amin(freqs) \n",
    "    median = np.median(freqs)\n",
    "    \n",
    "    skew = scipy.stats.skew(freqs)\n",
    "    kurt = scipy.stats.kurtosis(freqs)\n",
    "    q1 = np.quantile(freqs, 0.25)\n",
    "    q3 = np.quantile(freqs, 0.75)\n",
    "    mode = scipy.stats.mode(freqs)[0][0]\n",
    "    iqr = scipy.stats.iqr(freqs)\n",
    "    \n",
    "    return np.array( [[mean, std, median,q1, q3, minv,iqr, maxv]] ) #mean, std, maxv, minv, median,skew, kurt, q1, q3, mode, iqr]\n",
    "\n",
    "output = wavfile.read('/predict_gender_from_voice/recording1.wav')\n",
    "# frequence of audio it's output[0] but array it's output[1]\n",
    "freqs = np.fft.fftfreq(output[1].size)\n",
    "descr=describe_freq(output[1])\n",
    "print(describe_freq(output[1]))\n",
    "# print(output[0])"
   ]
  },
  {
   "cell_type": "code",
   "execution_count": null,
   "metadata": {
    "colab": {
     "base_uri": "https://localhost:8080/",
     "height": 145
    },
    "executionInfo": {
     "elapsed": 39,
     "status": "ok",
     "timestamp": 1645782057254,
     "user": {
      "displayName": "yassine boujrada",
      "photoUrl": "https://lh3.googleusercontent.com/a-/AOh14GiE6R5HoGgvTzGQtfm3-W8KYix-Z9pkm_cvQzWo8w=s64",
      "userId": "10516259841376690077"
     },
     "user_tz": -60
    },
    "id": "NawK-OKzC03f",
    "outputId": "5f1f0b66-524f-4c44-ed23-6a1b9f48e164"
   },
   "outputs": [
    {
     "data": {
      "text/html": [
       "\n",
       "  <div id=\"df-b81daed6-2f8c-4c68-9c2a-a22057395c3f\">\n",
       "    <div class=\"colab-df-container\">\n",
       "      <div>\n",
       "<style scoped>\n",
       "    .dataframe tbody tr th:only-of-type {\n",
       "        vertical-align: middle;\n",
       "    }\n",
       "\n",
       "    .dataframe tbody tr th {\n",
       "        vertical-align: top;\n",
       "    }\n",
       "\n",
       "    .dataframe thead th {\n",
       "        text-align: right;\n",
       "    }\n",
       "</style>\n",
       "<table border=\"1\" class=\"dataframe\">\n",
       "  <thead>\n",
       "    <tr style=\"text-align: right;\">\n",
       "      <th></th>\n",
       "      <th>meanfreq</th>\n",
       "      <th>sd</th>\n",
       "      <th>median</th>\n",
       "      <th>Q25</th>\n",
       "      <th>Q75</th>\n",
       "      <th>IQR</th>\n",
       "      <th>skew</th>\n",
       "      <th>kurt</th>\n",
       "      <th>sp.ent</th>\n",
       "      <th>sfm</th>\n",
       "      <th>mode</th>\n",
       "      <th>centroid</th>\n",
       "      <th>meanfun</th>\n",
       "      <th>minfun</th>\n",
       "      <th>maxfun</th>\n",
       "      <th>meandom</th>\n",
       "      <th>mindom</th>\n",
       "      <th>maxdom</th>\n",
       "      <th>dfrange</th>\n",
       "      <th>modindx</th>\n",
       "      <th>label</th>\n",
       "    </tr>\n",
       "  </thead>\n",
       "  <tbody>\n",
       "    <tr>\n",
       "      <th>0</th>\n",
       "      <td>0.059781</td>\n",
       "      <td>0.064241</td>\n",
       "      <td>0.032027</td>\n",
       "      <td>0.015071</td>\n",
       "      <td>0.090193</td>\n",
       "      <td>0.075122</td>\n",
       "      <td>12.863462</td>\n",
       "      <td>274.402906</td>\n",
       "      <td>0.893369</td>\n",
       "      <td>0.491918</td>\n",
       "      <td>0.0</td>\n",
       "      <td>0.059781</td>\n",
       "      <td>0.084279</td>\n",
       "      <td>0.015702</td>\n",
       "      <td>0.275862</td>\n",
       "      <td>0.007812</td>\n",
       "      <td>0.007812</td>\n",
       "      <td>0.007812</td>\n",
       "      <td>0.0</td>\n",
       "      <td>0.0</td>\n",
       "      <td>male</td>\n",
       "    </tr>\n",
       "  </tbody>\n",
       "</table>\n",
       "</div>\n",
       "      <button class=\"colab-df-convert\" onclick=\"convertToInteractive('df-b81daed6-2f8c-4c68-9c2a-a22057395c3f')\"\n",
       "              title=\"Convert this dataframe to an interactive table.\"\n",
       "              style=\"display:none;\">\n",
       "        \n",
       "  <svg xmlns=\"http://www.w3.org/2000/svg\" height=\"24px\"viewBox=\"0 0 24 24\"\n",
       "       width=\"24px\">\n",
       "    <path d=\"M0 0h24v24H0V0z\" fill=\"none\"/>\n",
       "    <path d=\"M18.56 5.44l.94 2.06.94-2.06 2.06-.94-2.06-.94-.94-2.06-.94 2.06-2.06.94zm-11 1L8.5 8.5l.94-2.06 2.06-.94-2.06-.94L8.5 2.5l-.94 2.06-2.06.94zm10 10l.94 2.06.94-2.06 2.06-.94-2.06-.94-.94-2.06-.94 2.06-2.06.94z\"/><path d=\"M17.41 7.96l-1.37-1.37c-.4-.4-.92-.59-1.43-.59-.52 0-1.04.2-1.43.59L10.3 9.45l-7.72 7.72c-.78.78-.78 2.05 0 2.83L4 21.41c.39.39.9.59 1.41.59.51 0 1.02-.2 1.41-.59l7.78-7.78 2.81-2.81c.8-.78.8-2.07 0-2.86zM5.41 20L4 18.59l7.72-7.72 1.47 1.35L5.41 20z\"/>\n",
       "  </svg>\n",
       "      </button>\n",
       "      \n",
       "  <style>\n",
       "    .colab-df-container {\n",
       "      display:flex;\n",
       "      flex-wrap:wrap;\n",
       "      gap: 12px;\n",
       "    }\n",
       "\n",
       "    .colab-df-convert {\n",
       "      background-color: #E8F0FE;\n",
       "      border: none;\n",
       "      border-radius: 50%;\n",
       "      cursor: pointer;\n",
       "      display: none;\n",
       "      fill: #1967D2;\n",
       "      height: 32px;\n",
       "      padding: 0 0 0 0;\n",
       "      width: 32px;\n",
       "    }\n",
       "\n",
       "    .colab-df-convert:hover {\n",
       "      background-color: #E2EBFA;\n",
       "      box-shadow: 0px 1px 2px rgba(60, 64, 67, 0.3), 0px 1px 3px 1px rgba(60, 64, 67, 0.15);\n",
       "      fill: #174EA6;\n",
       "    }\n",
       "\n",
       "    [theme=dark] .colab-df-convert {\n",
       "      background-color: #3B4455;\n",
       "      fill: #D2E3FC;\n",
       "    }\n",
       "\n",
       "    [theme=dark] .colab-df-convert:hover {\n",
       "      background-color: #434B5C;\n",
       "      box-shadow: 0px 1px 3px 1px rgba(0, 0, 0, 0.15);\n",
       "      filter: drop-shadow(0px 1px 2px rgba(0, 0, 0, 0.3));\n",
       "      fill: #FFFFFF;\n",
       "    }\n",
       "  </style>\n",
       "\n",
       "      <script>\n",
       "        const buttonEl =\n",
       "          document.querySelector('#df-b81daed6-2f8c-4c68-9c2a-a22057395c3f button.colab-df-convert');\n",
       "        buttonEl.style.display =\n",
       "          google.colab.kernel.accessAllowed ? 'block' : 'none';\n",
       "\n",
       "        async function convertToInteractive(key) {\n",
       "          const element = document.querySelector('#df-b81daed6-2f8c-4c68-9c2a-a22057395c3f');\n",
       "          const dataTable =\n",
       "            await google.colab.kernel.invokeFunction('convertToInteractive',\n",
       "                                                     [key], {});\n",
       "          if (!dataTable) return;\n",
       "\n",
       "          const docLinkHtml = 'Like what you see? Visit the ' +\n",
       "            '<a target=\"_blank\" href=https://colab.research.google.com/notebooks/data_table.ipynb>data table notebook</a>'\n",
       "            + ' to learn more about interactive tables.';\n",
       "          element.innerHTML = '';\n",
       "          dataTable['output_type'] = 'display_data';\n",
       "          await google.colab.output.renderOutput(dataTable, element);\n",
       "          const docLink = document.createElement('div');\n",
       "          docLink.innerHTML = docLinkHtml;\n",
       "          element.appendChild(docLink);\n",
       "        }\n",
       "      </script>\n",
       "    </div>\n",
       "  </div>\n",
       "  "
      ],
      "text/plain": [
       "   meanfreq        sd    median       Q25  ...    maxdom  dfrange  modindx  label\n",
       "0  0.059781  0.064241  0.032027  0.015071  ...  0.007812      0.0      0.0   male\n",
       "\n",
       "[1 rows x 21 columns]"
      ]
     },
     "execution_count": 53,
     "metadata": {},
     "output_type": "execute_result"
    }
   ],
   "source": [
    "# from sklearn import preprocessing\n",
    "# scaler = preprocessing.MinMaxScaler().fit_transform(descr)\n",
    "# scaler\n",
    "import pandas as pd\n",
    "df=pd.read_csv(\"/predict_gender_from_voice/voice.csv\")\n",
    "df.head(1)"
   ]
  },
  {
   "cell_type": "code",
   "execution_count": null,
   "metadata": {
    "colab": {
     "base_uri": "https://localhost:8080/"
    },
    "executionInfo": {
     "elapsed": 307,
     "status": "ok",
     "timestamp": 1645782568190,
     "user": {
      "displayName": "yassine boujrada",
      "photoUrl": "https://lh3.googleusercontent.com/a-/AOh14GiE6R5HoGgvTzGQtfm3-W8KYix-Z9pkm_cvQzWo8w=s64",
      "userId": "10516259841376690077"
     },
     "user_tz": -60
    },
    "id": "H0Zj-JjQH287",
    "outputId": "2f8ba12e-9068-4386-8f3e-d25108583194"
   },
   "outputs": [
    {
     "data": {
      "text/plain": [
       "KNeighborsClassifier(n_neighbors=3)"
      ]
     },
     "execution_count": 55,
     "metadata": {},
     "output_type": "execute_result"
    }
   ],
   "source": [
    "x_data=np.array(df[[\"meanfreq\",\"sd\",\"median\",\"Q25\",\"Q75\",\"IQR\",\"minfun\",\"maxfun\"]])\n",
    "y_data=np.array(df[\"label\"])\n",
    "from sklearn.neighbors import KNeighborsClassifier \n",
    "import sklearn\n",
    "x_train,x_test,y_train,y_test = sklearn.model_selection.train_test_split(x_data,y_data,test_size=0.1)\n",
    "model=KNeighborsClassifier(n_neighbors=3)\n",
    "model.fit(x_train,y_train)"
   ]
  },
  {
   "cell_type": "code",
   "execution_count": null,
   "metadata": {
    "colab": {
     "base_uri": "https://localhost:8080/",
     "height": 364
    },
    "executionInfo": {
     "elapsed": 410,
     "status": "ok",
     "timestamp": 1645782590417,
     "user": {
      "displayName": "yassine boujrada",
      "photoUrl": "https://lh3.googleusercontent.com/a-/AOh14GiE6R5HoGgvTzGQtfm3-W8KYix-Z9pkm_cvQzWo8w=s64",
      "userId": "10516259841376690077"
     },
     "user_tz": -60
    },
    "id": "DVBUmN8eKmRB",
    "outputId": "70a8b8a4-79cc-4575-a62a-f9ddf6ba2afa"
   },
   "outputs": [
    {
     "data": {
      "text/html": [
       "\n",
       "  <div id=\"df-4f5fe0b3-092e-42cd-828f-23f20207c4dc\">\n",
       "    <div class=\"colab-df-container\">\n",
       "      <div>\n",
       "<style scoped>\n",
       "    .dataframe tbody tr th:only-of-type {\n",
       "        vertical-align: middle;\n",
       "    }\n",
       "\n",
       "    .dataframe tbody tr th {\n",
       "        vertical-align: top;\n",
       "    }\n",
       "\n",
       "    .dataframe thead th {\n",
       "        text-align: right;\n",
       "    }\n",
       "</style>\n",
       "<table border=\"1\" class=\"dataframe\">\n",
       "  <thead>\n",
       "    <tr style=\"text-align: right;\">\n",
       "      <th></th>\n",
       "      <th>meanfreq</th>\n",
       "      <th>sd</th>\n",
       "      <th>median</th>\n",
       "      <th>Q25</th>\n",
       "      <th>Q75</th>\n",
       "      <th>IQR</th>\n",
       "      <th>skew</th>\n",
       "      <th>kurt</th>\n",
       "      <th>sp.ent</th>\n",
       "      <th>sfm</th>\n",
       "      <th>mode</th>\n",
       "      <th>centroid</th>\n",
       "      <th>meanfun</th>\n",
       "      <th>minfun</th>\n",
       "      <th>maxfun</th>\n",
       "      <th>meandom</th>\n",
       "      <th>mindom</th>\n",
       "      <th>maxdom</th>\n",
       "      <th>dfrange</th>\n",
       "      <th>modindx</th>\n",
       "    </tr>\n",
       "  </thead>\n",
       "  <tbody>\n",
       "    <tr>\n",
       "      <th>count</th>\n",
       "      <td>3168.000000</td>\n",
       "      <td>3168.000000</td>\n",
       "      <td>3168.000000</td>\n",
       "      <td>3168.000000</td>\n",
       "      <td>3168.000000</td>\n",
       "      <td>3168.000000</td>\n",
       "      <td>3168.000000</td>\n",
       "      <td>3168.000000</td>\n",
       "      <td>3168.000000</td>\n",
       "      <td>3168.000000</td>\n",
       "      <td>3168.000000</td>\n",
       "      <td>3168.000000</td>\n",
       "      <td>3168.000000</td>\n",
       "      <td>3168.000000</td>\n",
       "      <td>3168.000000</td>\n",
       "      <td>3168.000000</td>\n",
       "      <td>3168.000000</td>\n",
       "      <td>3168.000000</td>\n",
       "      <td>3168.000000</td>\n",
       "      <td>3168.000000</td>\n",
       "    </tr>\n",
       "    <tr>\n",
       "      <th>mean</th>\n",
       "      <td>0.180907</td>\n",
       "      <td>0.057126</td>\n",
       "      <td>0.185621</td>\n",
       "      <td>0.140456</td>\n",
       "      <td>0.224765</td>\n",
       "      <td>0.084309</td>\n",
       "      <td>3.140168</td>\n",
       "      <td>36.568461</td>\n",
       "      <td>0.895127</td>\n",
       "      <td>0.408216</td>\n",
       "      <td>0.165282</td>\n",
       "      <td>0.180907</td>\n",
       "      <td>0.142807</td>\n",
       "      <td>0.036802</td>\n",
       "      <td>0.258842</td>\n",
       "      <td>0.829211</td>\n",
       "      <td>0.052647</td>\n",
       "      <td>5.047277</td>\n",
       "      <td>4.994630</td>\n",
       "      <td>0.173752</td>\n",
       "    </tr>\n",
       "    <tr>\n",
       "      <th>std</th>\n",
       "      <td>0.029918</td>\n",
       "      <td>0.016652</td>\n",
       "      <td>0.036360</td>\n",
       "      <td>0.048680</td>\n",
       "      <td>0.023639</td>\n",
       "      <td>0.042783</td>\n",
       "      <td>4.240529</td>\n",
       "      <td>134.928661</td>\n",
       "      <td>0.044980</td>\n",
       "      <td>0.177521</td>\n",
       "      <td>0.077203</td>\n",
       "      <td>0.029918</td>\n",
       "      <td>0.032304</td>\n",
       "      <td>0.019220</td>\n",
       "      <td>0.030077</td>\n",
       "      <td>0.525205</td>\n",
       "      <td>0.063299</td>\n",
       "      <td>3.521157</td>\n",
       "      <td>3.520039</td>\n",
       "      <td>0.119454</td>\n",
       "    </tr>\n",
       "    <tr>\n",
       "      <th>min</th>\n",
       "      <td>0.039363</td>\n",
       "      <td>0.018363</td>\n",
       "      <td>0.010975</td>\n",
       "      <td>0.000229</td>\n",
       "      <td>0.042946</td>\n",
       "      <td>0.014558</td>\n",
       "      <td>0.141735</td>\n",
       "      <td>2.068455</td>\n",
       "      <td>0.738651</td>\n",
       "      <td>0.036876</td>\n",
       "      <td>0.000000</td>\n",
       "      <td>0.039363</td>\n",
       "      <td>0.055565</td>\n",
       "      <td>0.009775</td>\n",
       "      <td>0.103093</td>\n",
       "      <td>0.007812</td>\n",
       "      <td>0.004883</td>\n",
       "      <td>0.007812</td>\n",
       "      <td>0.000000</td>\n",
       "      <td>0.000000</td>\n",
       "    </tr>\n",
       "    <tr>\n",
       "      <th>25%</th>\n",
       "      <td>0.163662</td>\n",
       "      <td>0.041954</td>\n",
       "      <td>0.169593</td>\n",
       "      <td>0.111087</td>\n",
       "      <td>0.208747</td>\n",
       "      <td>0.042560</td>\n",
       "      <td>1.649569</td>\n",
       "      <td>5.669547</td>\n",
       "      <td>0.861811</td>\n",
       "      <td>0.258041</td>\n",
       "      <td>0.118016</td>\n",
       "      <td>0.163662</td>\n",
       "      <td>0.116998</td>\n",
       "      <td>0.018223</td>\n",
       "      <td>0.253968</td>\n",
       "      <td>0.419828</td>\n",
       "      <td>0.007812</td>\n",
       "      <td>2.070312</td>\n",
       "      <td>2.044922</td>\n",
       "      <td>0.099766</td>\n",
       "    </tr>\n",
       "    <tr>\n",
       "      <th>50%</th>\n",
       "      <td>0.184838</td>\n",
       "      <td>0.059155</td>\n",
       "      <td>0.190032</td>\n",
       "      <td>0.140286</td>\n",
       "      <td>0.225684</td>\n",
       "      <td>0.094280</td>\n",
       "      <td>2.197101</td>\n",
       "      <td>8.318463</td>\n",
       "      <td>0.901767</td>\n",
       "      <td>0.396335</td>\n",
       "      <td>0.186599</td>\n",
       "      <td>0.184838</td>\n",
       "      <td>0.140519</td>\n",
       "      <td>0.046110</td>\n",
       "      <td>0.271186</td>\n",
       "      <td>0.765795</td>\n",
       "      <td>0.023438</td>\n",
       "      <td>4.992188</td>\n",
       "      <td>4.945312</td>\n",
       "      <td>0.139357</td>\n",
       "    </tr>\n",
       "    <tr>\n",
       "      <th>75%</th>\n",
       "      <td>0.199146</td>\n",
       "      <td>0.067020</td>\n",
       "      <td>0.210618</td>\n",
       "      <td>0.175939</td>\n",
       "      <td>0.243660</td>\n",
       "      <td>0.114175</td>\n",
       "      <td>2.931694</td>\n",
       "      <td>13.648905</td>\n",
       "      <td>0.928713</td>\n",
       "      <td>0.533676</td>\n",
       "      <td>0.221104</td>\n",
       "      <td>0.199146</td>\n",
       "      <td>0.169581</td>\n",
       "      <td>0.047904</td>\n",
       "      <td>0.277457</td>\n",
       "      <td>1.177166</td>\n",
       "      <td>0.070312</td>\n",
       "      <td>7.007812</td>\n",
       "      <td>6.992188</td>\n",
       "      <td>0.209183</td>\n",
       "    </tr>\n",
       "    <tr>\n",
       "      <th>max</th>\n",
       "      <td>0.251124</td>\n",
       "      <td>0.115273</td>\n",
       "      <td>0.261224</td>\n",
       "      <td>0.247347</td>\n",
       "      <td>0.273469</td>\n",
       "      <td>0.252225</td>\n",
       "      <td>34.725453</td>\n",
       "      <td>1309.612887</td>\n",
       "      <td>0.981997</td>\n",
       "      <td>0.842936</td>\n",
       "      <td>0.280000</td>\n",
       "      <td>0.251124</td>\n",
       "      <td>0.237636</td>\n",
       "      <td>0.204082</td>\n",
       "      <td>0.279114</td>\n",
       "      <td>2.957682</td>\n",
       "      <td>0.458984</td>\n",
       "      <td>21.867188</td>\n",
       "      <td>21.843750</td>\n",
       "      <td>0.932374</td>\n",
       "    </tr>\n",
       "  </tbody>\n",
       "</table>\n",
       "</div>\n",
       "      <button class=\"colab-df-convert\" onclick=\"convertToInteractive('df-4f5fe0b3-092e-42cd-828f-23f20207c4dc')\"\n",
       "              title=\"Convert this dataframe to an interactive table.\"\n",
       "              style=\"display:none;\">\n",
       "        \n",
       "  <svg xmlns=\"http://www.w3.org/2000/svg\" height=\"24px\"viewBox=\"0 0 24 24\"\n",
       "       width=\"24px\">\n",
       "    <path d=\"M0 0h24v24H0V0z\" fill=\"none\"/>\n",
       "    <path d=\"M18.56 5.44l.94 2.06.94-2.06 2.06-.94-2.06-.94-.94-2.06-.94 2.06-2.06.94zm-11 1L8.5 8.5l.94-2.06 2.06-.94-2.06-.94L8.5 2.5l-.94 2.06-2.06.94zm10 10l.94 2.06.94-2.06 2.06-.94-2.06-.94-.94-2.06-.94 2.06-2.06.94z\"/><path d=\"M17.41 7.96l-1.37-1.37c-.4-.4-.92-.59-1.43-.59-.52 0-1.04.2-1.43.59L10.3 9.45l-7.72 7.72c-.78.78-.78 2.05 0 2.83L4 21.41c.39.39.9.59 1.41.59.51 0 1.02-.2 1.41-.59l7.78-7.78 2.81-2.81c.8-.78.8-2.07 0-2.86zM5.41 20L4 18.59l7.72-7.72 1.47 1.35L5.41 20z\"/>\n",
       "  </svg>\n",
       "      </button>\n",
       "      \n",
       "  <style>\n",
       "    .colab-df-container {\n",
       "      display:flex;\n",
       "      flex-wrap:wrap;\n",
       "      gap: 12px;\n",
       "    }\n",
       "\n",
       "    .colab-df-convert {\n",
       "      background-color: #E8F0FE;\n",
       "      border: none;\n",
       "      border-radius: 50%;\n",
       "      cursor: pointer;\n",
       "      display: none;\n",
       "      fill: #1967D2;\n",
       "      height: 32px;\n",
       "      padding: 0 0 0 0;\n",
       "      width: 32px;\n",
       "    }\n",
       "\n",
       "    .colab-df-convert:hover {\n",
       "      background-color: #E2EBFA;\n",
       "      box-shadow: 0px 1px 2px rgba(60, 64, 67, 0.3), 0px 1px 3px 1px rgba(60, 64, 67, 0.15);\n",
       "      fill: #174EA6;\n",
       "    }\n",
       "\n",
       "    [theme=dark] .colab-df-convert {\n",
       "      background-color: #3B4455;\n",
       "      fill: #D2E3FC;\n",
       "    }\n",
       "\n",
       "    [theme=dark] .colab-df-convert:hover {\n",
       "      background-color: #434B5C;\n",
       "      box-shadow: 0px 1px 3px 1px rgba(0, 0, 0, 0.15);\n",
       "      filter: drop-shadow(0px 1px 2px rgba(0, 0, 0, 0.3));\n",
       "      fill: #FFFFFF;\n",
       "    }\n",
       "  </style>\n",
       "\n",
       "      <script>\n",
       "        const buttonEl =\n",
       "          document.querySelector('#df-4f5fe0b3-092e-42cd-828f-23f20207c4dc button.colab-df-convert');\n",
       "        buttonEl.style.display =\n",
       "          google.colab.kernel.accessAllowed ? 'block' : 'none';\n",
       "\n",
       "        async function convertToInteractive(key) {\n",
       "          const element = document.querySelector('#df-4f5fe0b3-092e-42cd-828f-23f20207c4dc');\n",
       "          const dataTable =\n",
       "            await google.colab.kernel.invokeFunction('convertToInteractive',\n",
       "                                                     [key], {});\n",
       "          if (!dataTable) return;\n",
       "\n",
       "          const docLinkHtml = 'Like what you see? Visit the ' +\n",
       "            '<a target=\"_blank\" href=https://colab.research.google.com/notebooks/data_table.ipynb>data table notebook</a>'\n",
       "            + ' to learn more about interactive tables.';\n",
       "          element.innerHTML = '';\n",
       "          dataTable['output_type'] = 'display_data';\n",
       "          await google.colab.output.renderOutput(dataTable, element);\n",
       "          const docLink = document.createElement('div');\n",
       "          docLink.innerHTML = docLinkHtml;\n",
       "          element.appendChild(docLink);\n",
       "        }\n",
       "      </script>\n",
       "    </div>\n",
       "  </div>\n",
       "  "
      ],
      "text/plain": [
       "          meanfreq           sd  ...      dfrange      modindx\n",
       "count  3168.000000  3168.000000  ...  3168.000000  3168.000000\n",
       "mean      0.180907     0.057126  ...     4.994630     0.173752\n",
       "std       0.029918     0.016652  ...     3.520039     0.119454\n",
       "min       0.039363     0.018363  ...     0.000000     0.000000\n",
       "25%       0.163662     0.041954  ...     2.044922     0.099766\n",
       "50%       0.184838     0.059155  ...     4.945312     0.139357\n",
       "75%       0.199146     0.067020  ...     6.992188     0.209183\n",
       "max       0.251124     0.115273  ...    21.843750     0.932374\n",
       "\n",
       "[8 rows x 20 columns]"
      ]
     },
     "execution_count": 56,
     "metadata": {},
     "output_type": "execute_result"
    }
   ],
   "source": [
    "df.describe()"
   ]
  },
  {
   "cell_type": "code",
   "execution_count": null,
   "metadata": {
    "colab": {
     "base_uri": "https://localhost:8080/"
    },
    "executionInfo": {
     "elapsed": 361,
     "status": "ok",
     "timestamp": 1645782696659,
     "user": {
      "displayName": "yassine boujrada",
      "photoUrl": "https://lh3.googleusercontent.com/a-/AOh14GiE6R5HoGgvTzGQtfm3-W8KYix-Z9pkm_cvQzWo8w=s64",
      "userId": "10516259841376690077"
     },
     "user_tz": -60
    },
    "id": "xNXNWDRiSV7w",
    "outputId": "193f4804-af15-4422-81e8-ede4a5d3c07b"
   },
   "outputs": [
    {
     "data": {
      "text/plain": [
       "0.251123758720282"
      ]
     },
     "execution_count": 57,
     "metadata": {},
     "output_type": "execute_result"
    }
   ],
   "source": [
    "max(df[\"meanfreq\"].values)"
   ]
  },
  {
   "cell_type": "code",
   "execution_count": 18,
   "metadata": {
    "colab": {
     "base_uri": "https://localhost:8080/"
    },
    "executionInfo": {
     "elapsed": 490,
     "status": "ok",
     "timestamp": 1645893275033,
     "user": {
      "displayName": "yassine boujrada",
      "photoUrl": "https://lh3.googleusercontent.com/a-/AOh14GiE6R5HoGgvTzGQtfm3-W8KYix-Z9pkm_cvQzWo8w=s64",
      "userId": "10516259841376690077"
     },
     "user_tz": -60
    },
    "id": "jsHFH-p5Sv0Z",
    "outputId": "4d0531fb-e67f-4c45-d924-ce9ded967e41"
   },
   "outputs": [
    {
     "data": {
      "text/plain": [
       "(88200, 2)"
      ]
     },
     "execution_count": 18,
     "metadata": {},
     "output_type": "execute_result"
    }
   ],
   "source": [
    "def spectral_properties(y: np.ndarray, fs: int) -> dict:\n",
    "    spec = np.abs(np.fft.rfft(y))\n",
    "    freq = np.fft.rfftfreq(len(y), d=1 / fs)\n",
    "    spec = np.abs(spec)\n",
    "    amp = spec / spec.sum()\n",
    "    mean = (freq * amp).sum()\n",
    "    sd = np.sqrt(np.sum(amp * ((freq - mean) ** 2)))\n",
    "    amp_cumsum = np.cumsum(amp)\n",
    "    median = freq[len(amp_cumsum[amp_cumsum <= 0.5]) + 1]\n",
    "    mode = freq[amp.argmax()]\n",
    "    Q25 = freq[len(amp_cumsum[amp_cumsum <= 0.25]) + 1]\n",
    "    Q75 = freq[len(amp_cumsum[amp_cumsum <= 0.75]) + 1]\n",
    "    IQR = Q75 - Q25\n",
    "    z = amp - amp.mean()\n",
    "    w = amp.std()\n",
    "    skew = ((z ** 3).sum() / (len(spec) - 1)) / w ** 3\n",
    "    kurt = ((z ** 4).sum() / (len(spec) - 1)) / w ** 4\n",
    "\n",
    "    result_d = {\n",
    "        'mean': mean,\n",
    "        'sd': sd,\n",
    "        'median': median,\n",
    "        'mode': mode,\n",
    "        'Q25': Q25,\n",
    "        'Q75': Q75,\n",
    "        'IQR': IQR,\n",
    "        'skew': skew,\n",
    "        'kurt': kurt\n",
    "    }\n",
    "\n",
    "    return result_d\n",
    "\n",
    "output = wavfile.read('predict_gender_from_voice/recording1.wav')\n",
    "output[1].shape"
   ]
  },
  {
   "cell_type": "code",
   "execution_count": 29,
   "metadata": {
    "colab": {
     "base_uri": "https://localhost:8080/"
    },
    "executionInfo": {
     "elapsed": 6,
     "status": "ok",
     "timestamp": 1645893894255,
     "user": {
      "displayName": "yassine boujrada",
      "photoUrl": "https://lh3.googleusercontent.com/a-/AOh14GiE6R5HoGgvTzGQtfm3-W8KYix-Z9pkm_cvQzWo8w=s64",
      "userId": "10516259841376690077"
     },
     "user_tz": -60
    },
    "id": "00K-4fOB4mj-",
    "outputId": "28ca5beb-4aab-4571-f620-1d5b3f729995"
   },
   "outputs": [
    {
     "data": {
      "text/plain": [
       "(1925.8766276770236,\n",
       " 249.5,\n",
       " 992.0,\n",
       " 3981.0425737941914,\n",
       " 481.0,\n",
       " 742.5,\n",
       " 26.294714597305266,\n",
       " 1573.5817549303338,\n",
       " 0.0)"
      ]
     },
     "execution_count": 29,
     "metadata": {},
     "output_type": "execute_result"
    }
   ],
   "source": [
    "def spectral_properties1(filename):\n",
    "\n",
    "    fs, data = wavfile.read(filename)\n",
    "\n",
    "    # use the first channel only\n",
    "    if data.ndim > 1:\n",
    "        data = data[:, 0]\n",
    "\n",
    "    spec = np.abs(np.fft.rfft(data))\n",
    "    freq = np.fft.rfftfreq(len(data), d=1/fs)\n",
    "\n",
    "    assert len(spec) == len(freq)\n",
    "\n",
    "    amp = spec / spec.sum()\n",
    "    amp_cumsum = amp.cumsum()\n",
    "\n",
    "    assert len(amp_cumsum) == len(freq)\n",
    "\n",
    "    q25 = freq[len(amp_cumsum[amp_cumsum < 0.25])]\n",
    "    q75 = freq[len(amp_cumsum[amp_cumsum < 0.75])]\n",
    "    mean=(freq * amp).sum()\n",
    "    median = freq[len(amp_cumsum[amp_cumsum <= 0.5]) + 1]\n",
    "    sd = np.sqrt(np.sum(amp * ((freq - mean) ** 2)))\n",
    "    IQR = q75 - q25\n",
    "    z = amp - amp.mean()\n",
    "    w = amp.std()\n",
    "    skew = ((z ** 3).sum() / (len(spec) - 1)) / w ** 3\n",
    "    kurt = ((z ** 4).sum() / (len(spec) - 1)) / w ** 4\n",
    "    mode = freq[amp.argmax()]\n",
    "    \n",
    "    return mean, q25, q75,sd,median,IQR,skew,kurt,mode\n",
    "\n",
    "spectral_properties1('predict_gender_from_voice/recording1.wav')"
   ]
  },
  {
   "cell_type": "code",
   "execution_count": 30,
   "metadata": {
    "executionInfo": {
     "elapsed": 433,
     "status": "ok",
     "timestamp": 1645893924633,
     "user": {
      "displayName": "yassine boujrada",
      "photoUrl": "https://lh3.googleusercontent.com/a-/AOh14GiE6R5HoGgvTzGQtfm3-W8KYix-Z9pkm_cvQzWo8w=s64",
      "userId": "10516259841376690077"
     },
     "user_tz": -60
    },
    "id": "WnrZ30tS4mWF"
   },
   "outputs": [],
   "source": []
  },
  {
   "cell_type": "code",
   "execution_count": null,
   "metadata": {
    "id": "oSEHul9d4mAE"
   },
   "outputs": [],
   "source": []
  },
  {
   "cell_type": "code",
   "execution_count": 29,
   "metadata": {
    "executionInfo": {
     "elapsed": 621,
     "status": "ok",
     "timestamp": 1645893919756,
     "user": {
      "displayName": "yassine boujrada",
      "photoUrl": "https://lh3.googleusercontent.com/a-/AOh14GiE6R5HoGgvTzGQtfm3-W8KYix-Z9pkm_cvQzWo8w=s64",
      "userId": "10516259841376690077"
     },
     "user_tz": -60
    },
    "id": "VszyN6j128iQ"
   },
   "outputs": [],
   "source": []
  }
 ],
 "metadata": {
  "colab": {
   "authorship_tag": "ABX9TyMS7+kGwRSnDPDk0tdwWDEN",
   "collapsed_sections": [],
   "name": "Untitled0.ipynb",
   "provenance": []
  },
  "kernelspec": {
   "display_name": "Python 3 (ipykernel)",
   "language": "python",
   "name": "python3"
  },
  "language_info": {
   "codemirror_mode": {
    "name": "ipython",
    "version": 3
   },
   "file_extension": ".py",
   "mimetype": "text/x-python",
   "name": "python",
   "nbconvert_exporter": "python",
   "pygments_lexer": "ipython3",
   "version": "3.9.7"
  }
 },
 "nbformat": 4,
 "nbformat_minor": 1
}
