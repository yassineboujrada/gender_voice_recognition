{
 "cells": [
  {
   "cell_type": "code",
   "execution_count": 43,
   "id": "23fca788",
   "metadata": {},
   "outputs": [],
   "source": [
    "import pandas as pd\n",
    "import numpy as np\n",
    "from sklearn.neural_network import MLPClassifier\n",
    "import sklearn\n",
    "import pickle"
   ]
  },
  {
   "cell_type": "code",
   "execution_count": 3,
   "id": "87e7ef58",
   "metadata": {},
   "outputs": [
    {
     "data": {
      "text/html": [
       "<div>\n",
       "<style scoped>\n",
       "    .dataframe tbody tr th:only-of-type {\n",
       "        vertical-align: middle;\n",
       "    }\n",
       "\n",
       "    .dataframe tbody tr th {\n",
       "        vertical-align: top;\n",
       "    }\n",
       "\n",
       "    .dataframe thead th {\n",
       "        text-align: right;\n",
       "    }\n",
       "</style>\n",
       "<table border=\"1\" class=\"dataframe\">\n",
       "  <thead>\n",
       "    <tr style=\"text-align: right;\">\n",
       "      <th></th>\n",
       "      <th>id</th>\n",
       "      <th>meanfreq</th>\n",
       "      <th>sd</th>\n",
       "      <th>median</th>\n",
       "      <th>mode</th>\n",
       "      <th>Q25</th>\n",
       "      <th>Q75</th>\n",
       "      <th>IQR</th>\n",
       "      <th>skew</th>\n",
       "      <th>kurt</th>\n",
       "    </tr>\n",
       "  </thead>\n",
       "  <tbody>\n",
       "    <tr>\n",
       "      <th>count</th>\n",
       "      <td>1000.000000</td>\n",
       "      <td>1000.000000</td>\n",
       "      <td>1000.000000</td>\n",
       "      <td>1000.000000</td>\n",
       "      <td>1000.000000</td>\n",
       "      <td>1000.000000</td>\n",
       "      <td>1000.000000</td>\n",
       "      <td>1000.000000</td>\n",
       "      <td>1000.000000</td>\n",
       "      <td>1000.000000</td>\n",
       "    </tr>\n",
       "    <tr>\n",
       "      <th>mean</th>\n",
       "      <td>499.500000</td>\n",
       "      <td>1.778399</td>\n",
       "      <td>2.265875</td>\n",
       "      <td>0.754376</td>\n",
       "      <td>0.205289</td>\n",
       "      <td>0.332360</td>\n",
       "      <td>2.428648</td>\n",
       "      <td>2.096287</td>\n",
       "      <td>7.953492</td>\n",
       "      <td>0.102134</td>\n",
       "    </tr>\n",
       "    <tr>\n",
       "      <th>std</th>\n",
       "      <td>288.819436</td>\n",
       "      <td>0.586851</td>\n",
       "      <td>0.528194</td>\n",
       "      <td>0.416495</td>\n",
       "      <td>0.158256</td>\n",
       "      <td>0.123392</td>\n",
       "      <td>1.334828</td>\n",
       "      <td>1.291415</td>\n",
       "      <td>2.334159</td>\n",
       "      <td>0.084448</td>\n",
       "    </tr>\n",
       "    <tr>\n",
       "      <th>min</th>\n",
       "      <td>0.000000</td>\n",
       "      <td>0.766621</td>\n",
       "      <td>1.171733</td>\n",
       "      <td>0.264574</td>\n",
       "      <td>0.000000</td>\n",
       "      <td>0.106535</td>\n",
       "      <td>0.586539</td>\n",
       "      <td>0.400653</td>\n",
       "      <td>2.903925</td>\n",
       "      <td>0.016636</td>\n",
       "    </tr>\n",
       "    <tr>\n",
       "      <th>25%</th>\n",
       "      <td>249.750000</td>\n",
       "      <td>1.339552</td>\n",
       "      <td>1.859364</td>\n",
       "      <td>0.530185</td>\n",
       "      <td>0.107915</td>\n",
       "      <td>0.242794</td>\n",
       "      <td>1.416985</td>\n",
       "      <td>1.099804</td>\n",
       "      <td>6.393232</td>\n",
       "      <td>0.057865</td>\n",
       "    </tr>\n",
       "    <tr>\n",
       "      <th>50%</th>\n",
       "      <td>499.500000</td>\n",
       "      <td>1.696043</td>\n",
       "      <td>2.209637</td>\n",
       "      <td>0.670926</td>\n",
       "      <td>0.200163</td>\n",
       "      <td>0.309328</td>\n",
       "      <td>2.102278</td>\n",
       "      <td>1.763295</td>\n",
       "      <td>7.569685</td>\n",
       "      <td>0.081958</td>\n",
       "    </tr>\n",
       "    <tr>\n",
       "      <th>75%</th>\n",
       "      <td>749.250000</td>\n",
       "      <td>2.103084</td>\n",
       "      <td>2.643175</td>\n",
       "      <td>0.839357</td>\n",
       "      <td>0.249920</td>\n",
       "      <td>0.406427</td>\n",
       "      <td>3.066344</td>\n",
       "      <td>2.669520</td>\n",
       "      <td>8.967974</td>\n",
       "      <td>0.118349</td>\n",
       "    </tr>\n",
       "    <tr>\n",
       "      <th>max</th>\n",
       "      <td>999.000000</td>\n",
       "      <td>5.565007</td>\n",
       "      <td>3.803782</td>\n",
       "      <td>7.228877</td>\n",
       "      <td>0.835068</td>\n",
       "      <td>1.799943</td>\n",
       "      <td>8.203963</td>\n",
       "      <td>7.697076</td>\n",
       "      <td>22.856080</td>\n",
       "      <td>1.104698</td>\n",
       "    </tr>\n",
       "  </tbody>\n",
       "</table>\n",
       "</div>"
      ],
      "text/plain": [
       "                id     meanfreq           sd       median         mode  \\\n",
       "count  1000.000000  1000.000000  1000.000000  1000.000000  1000.000000   \n",
       "mean    499.500000     1.778399     2.265875     0.754376     0.205289   \n",
       "std     288.819436     0.586851     0.528194     0.416495     0.158256   \n",
       "min       0.000000     0.766621     1.171733     0.264574     0.000000   \n",
       "25%     249.750000     1.339552     1.859364     0.530185     0.107915   \n",
       "50%     499.500000     1.696043     2.209637     0.670926     0.200163   \n",
       "75%     749.250000     2.103084     2.643175     0.839357     0.249920   \n",
       "max     999.000000     5.565007     3.803782     7.228877     0.835068   \n",
       "\n",
       "               Q25          Q75          IQR         skew         kurt  \n",
       "count  1000.000000  1000.000000  1000.000000  1000.000000  1000.000000  \n",
       "mean      0.332360     2.428648     2.096287     7.953492     0.102134  \n",
       "std       0.123392     1.334828     1.291415     2.334159     0.084448  \n",
       "min       0.106535     0.586539     0.400653     2.903925     0.016636  \n",
       "25%       0.242794     1.416985     1.099804     6.393232     0.057865  \n",
       "50%       0.309328     2.102278     1.763295     7.569685     0.081958  \n",
       "75%       0.406427     3.066344     2.669520     8.967974     0.118349  \n",
       "max       1.799943     8.203963     7.697076    22.856080     1.104698  "
      ]
     },
     "execution_count": 3,
     "metadata": {},
     "output_type": "execute_result"
    }
   ],
   "source": [
    "dataset=pd.read_csv(\"gendervoice.csv\")\n",
    "dataset.describe()"
   ]
  },
  {
   "cell_type": "code",
   "execution_count": 27,
   "id": "de47ba0b",
   "metadata": {},
   "outputs": [],
   "source": [
    "dataset['Label']=dataset['Label'].replace(['Female','Male'],[0,1])"
   ]
  },
  {
   "cell_type": "code",
   "execution_count": 32,
   "id": "4e22c281",
   "metadata": {},
   "outputs": [
    {
     "name": "stderr",
     "output_type": "stream",
     "text": [
      "C:\\Users\\yassine\\AppData\\Local\\Temp/ipykernel_8364/3573617354.py:1: FutureWarning: In a future version of pandas all arguments of DataFrame.drop except for the argument 'labels' will be keyword-only\n",
      "  x_data=np.array(dataset.drop(['id','Label'],1))\n"
     ]
    }
   ],
   "source": [
    "x_data=np.array(dataset.drop(['id','Label'],1))\n",
    "y_data=np.array(dataset['Label'])"
   ]
  },
  {
   "cell_type": "code",
   "execution_count": 34,
   "id": "17d65c9f",
   "metadata": {},
   "outputs": [],
   "source": [
    "x_train,x_test,y_train,y_test = sklearn.model_selection.train_test_split(x_data,y_data,test_size=0.1)"
   ]
  },
  {
   "cell_type": "code",
   "execution_count": 66,
   "id": "eff1baee",
   "metadata": {},
   "outputs": [
    {
     "name": "stderr",
     "output_type": "stream",
     "text": [
      "C:\\Users\\yassine\\anaconda3\\lib\\site-packages\\sklearn\\neural_network\\_multilayer_perceptron.py:692: ConvergenceWarning: Stochastic Optimizer: Maximum iterations (300) reached and the optimization hasn't converged yet.\n",
      "  warnings.warn(\n"
     ]
    },
    {
     "data": {
      "text/plain": [
       "0.7"
      ]
     },
     "execution_count": 66,
     "metadata": {},
     "output_type": "execute_result"
    }
   ],
   "source": [
    "model=MLPClassifier(hidden_layer_sizes=(30,30,30),max_iter=300).fit(x_train, y_train)\n",
    "acc=model.score(x_test,y_test)\n",
    "acc"
   ]
  },
  {
   "cell_type": "code",
   "execution_count": 67,
   "id": "37faddac",
   "metadata": {},
   "outputs": [],
   "source": [
    "filename = 'finalized_model.sav'\n",
    "pickle.dump(model, open(filename, 'wb'))"
   ]
  }
 ],
 "metadata": {
  "kernelspec": {
   "display_name": "Python 3 (ipykernel)",
   "language": "python",
   "name": "python3"
  },
  "language_info": {
   "codemirror_mode": {
    "name": "ipython",
    "version": 3
   },
   "file_extension": ".py",
   "mimetype": "text/x-python",
   "name": "python",
   "nbconvert_exporter": "python",
   "pygments_lexer": "ipython3",
   "version": "3.9.7"
  }
 },
 "nbformat": 4,
 "nbformat_minor": 5
}
